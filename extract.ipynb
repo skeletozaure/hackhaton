{
 "cells": [
  {
   "cell_type": "code",
   "execution_count": 1,
   "metadata": {},
   "outputs": [],
   "source": [
    "import pandas as pd"
   ]
  },
  {
   "cell_type": "code",
   "execution_count": 2,
   "metadata": {},
   "outputs": [],
   "source": [
    "# load flight data (flight.csv) in a DataFrame (df)\n",
    "df = pd.read_csv('flight.csv')"
   ]
  },
  {
   "cell_type": "code",
   "execution_count": 5,
   "metadata": {},
   "outputs": [],
   "source": [
    "# Group by 'DayOfWeek' and 'DestAirportName' and calculate the mean of 'ArrDel15'\n",
    "result = df.groupby(['DayOfWeek', 'DestAirportID', 'DestAirportName'])['ArrDel15'].mean().reset_index()\n",
    "\n",
    "# Convert to percentage\n",
    "result['ChanceOfDel15'] = (result['ArrDel15'] * 100).round(0)\n",
    "\n",
    "# Select required columns\n",
    "result = result[['DayOfWeek', 'DestAirportID', 'DestAirportName', 'ChanceOfDel15']]\n",
    "\n",
    "# Save to json format\n",
    "result.to_json('delays.json', orient='records')"
   ]
  },
  {
   "cell_type": "code",
   "execution_count": null,
   "metadata": {},
   "outputs": [],
   "source": []
  }
 ],
 "metadata": {
  "kernelspec": {
   "display_name": "Sandbox",
   "language": "python",
   "name": "python3"
  },
  "language_info": {
   "codemirror_mode": {
    "name": "ipython",
    "version": 3
   },
   "file_extension": ".py",
   "mimetype": "text/x-python",
   "name": "python",
   "nbconvert_exporter": "python",
   "pygments_lexer": "ipython3",
   "version": "3.12.4"
  }
 },
 "nbformat": 4,
 "nbformat_minor": 2
}
